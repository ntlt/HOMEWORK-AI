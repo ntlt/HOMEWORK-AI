{
  "nbformat": 4,
  "nbformat_minor": 0,
  "metadata": {
    "colab": {
      "name": "ANN-DOF2.ipynb",
      "provenance": [],
      "authorship_tag": "ABX9TyPuGbycZE0Tkeo/FMm1y+pX",
      "include_colab_link": true
    },
    "kernelspec": {
      "name": "python3",
      "display_name": "Python 3"
    },
    "language_info": {
      "name": "python"
    },
    "accelerator": "GPU"
  },
  "cells": [
    {
      "cell_type": "markdown",
      "metadata": {
        "id": "view-in-github",
        "colab_type": "text"
      },
      "source": [
        "<a href=\"https://colab.research.google.com/github/ntlt/Nguyen-Thi-Linh-Trang-191446079/blob/main/ANN_DOF2.ipynb\" target=\"_parent\"><img src=\"https://colab.research.google.com/assets/colab-badge.svg\" alt=\"Open In Colab\"/></a>"
      ]
    },
    {
      "cell_type": "code",
      "execution_count": 1,
      "metadata": {
        "id": "IfdkYRNxATG6"
      },
      "outputs": [],
      "source": [
        "import numpy as np\n",
        "import pandas as pd\n",
        "import matplotlib.pyplot as plt\n",
        "from keras.utils import np_utils\n",
        "from keras.models import Sequential\n",
        "from keras.layers import Dense, Dropout\n",
        "from tensorflow.keras.optimizers import RMSprop\n",
        "from keras.callbacks import EarlyStopping\n",
        "from keras.backend import dropout\n",
        "from tensorflow.keras.utils import to_categorical\n",
        "\n",
        "import numpy as np\n",
        "import pandas as pd\n",
        "import math\n",
        "import seaborn as ses\n",
        "import matplotlib.pyplot as plt\n",
        "import matplotlib.image as mpimg\n",
        "\n",
        "from sklearn.preprocessing import StandardScaler\n",
        "from sklearn.model_selection import train_test_split\n",
        "from sklearn.metrics import precision_score,recall_score,confusion_matrix,classification_report,accuracy_score,f1_score\n",
        "\n",
        "from keras.layers import Dense, Activation, Dropout, BatchNormalization, LSTM,Conv2D, MaxPooling2D, Flatten,LeakyReLU\n",
        "from keras.models import Sequential\n",
        "from tensorflow.keras.utils import to_categorical ,load_img, img_to_array\n",
        "from tensorflow.keras.optimizers import RMSprop,SGD\n",
        "from tensorflow.keras.models import load_model\n",
        "from keras import callbacks\n",
        "from keras.callbacks import EarlyStopping"
      ]
    },
    {
      "cell_type": "code",
      "source": [
        "data_robot = []\n",
        "l1 = 50\n",
        "l2 = 40\n",
        "for theta1 in range (-100,100):\n",
        "    for theta2 in range (-140,140):\n",
        "        px = l1*np.cos(np.radians(theta1)) + l2*np.cos(np.radians(theta1 + theta2))\n",
        "        py = l1*np.sin(np.radians(theta1)) + l2*np.sin(np.radians(theta1 + theta2))\n",
        "        data_robot.append([theta1,theta2,px,py])\n",
        "data = pd.DataFrame(data_robot,columns=['theta1','theta2','Px','Py'])\n",
        "data"
      ],
      "metadata": {
        "colab": {
          "base_uri": "https://localhost:8080/",
          "height": 424
        },
        "id": "4JpyimnKAhyQ",
        "outputId": "99aadaad-2811-4672-d024-1d0d4c3c7aef"
      },
      "execution_count": 2,
      "outputs": [
        {
          "output_type": "execute_result",
          "data": {
            "text/plain": [
              "       theta1  theta2         Px         Py\n",
              "0        -100    -140 -28.682409 -14.599371\n",
              "1        -100    -139 -29.283932 -14.953696\n",
              "2        -100    -138 -29.879179 -15.318464\n",
              "3        -100    -137 -30.467970 -15.693565\n",
              "4        -100    -136 -31.050125 -16.078885\n",
              "...       ...     ...        ...        ...\n",
              "55995      99     135 -31.333133  17.023737\n",
              "55996      99     136 -30.764781  16.618335\n",
              "55997      99     137 -30.189439  16.222914\n",
              "55998      99     138 -29.607285  15.837594\n",
              "55999      99     139 -29.018494  15.462493\n",
              "\n",
              "[56000 rows x 4 columns]"
            ],
            "text/html": [
              "\n",
              "  <div id=\"df-5d52bb26-920b-4efd-81f2-b2854941969d\">\n",
              "    <div class=\"colab-df-container\">\n",
              "      <div>\n",
              "<style scoped>\n",
              "    .dataframe tbody tr th:only-of-type {\n",
              "        vertical-align: middle;\n",
              "    }\n",
              "\n",
              "    .dataframe tbody tr th {\n",
              "        vertical-align: top;\n",
              "    }\n",
              "\n",
              "    .dataframe thead th {\n",
              "        text-align: right;\n",
              "    }\n",
              "</style>\n",
              "<table border=\"1\" class=\"dataframe\">\n",
              "  <thead>\n",
              "    <tr style=\"text-align: right;\">\n",
              "      <th></th>\n",
              "      <th>theta1</th>\n",
              "      <th>theta2</th>\n",
              "      <th>Px</th>\n",
              "      <th>Py</th>\n",
              "    </tr>\n",
              "  </thead>\n",
              "  <tbody>\n",
              "    <tr>\n",
              "      <th>0</th>\n",
              "      <td>-100</td>\n",
              "      <td>-140</td>\n",
              "      <td>-28.682409</td>\n",
              "      <td>-14.599371</td>\n",
              "    </tr>\n",
              "    <tr>\n",
              "      <th>1</th>\n",
              "      <td>-100</td>\n",
              "      <td>-139</td>\n",
              "      <td>-29.283932</td>\n",
              "      <td>-14.953696</td>\n",
              "    </tr>\n",
              "    <tr>\n",
              "      <th>2</th>\n",
              "      <td>-100</td>\n",
              "      <td>-138</td>\n",
              "      <td>-29.879179</td>\n",
              "      <td>-15.318464</td>\n",
              "    </tr>\n",
              "    <tr>\n",
              "      <th>3</th>\n",
              "      <td>-100</td>\n",
              "      <td>-137</td>\n",
              "      <td>-30.467970</td>\n",
              "      <td>-15.693565</td>\n",
              "    </tr>\n",
              "    <tr>\n",
              "      <th>4</th>\n",
              "      <td>-100</td>\n",
              "      <td>-136</td>\n",
              "      <td>-31.050125</td>\n",
              "      <td>-16.078885</td>\n",
              "    </tr>\n",
              "    <tr>\n",
              "      <th>...</th>\n",
              "      <td>...</td>\n",
              "      <td>...</td>\n",
              "      <td>...</td>\n",
              "      <td>...</td>\n",
              "    </tr>\n",
              "    <tr>\n",
              "      <th>55995</th>\n",
              "      <td>99</td>\n",
              "      <td>135</td>\n",
              "      <td>-31.333133</td>\n",
              "      <td>17.023737</td>\n",
              "    </tr>\n",
              "    <tr>\n",
              "      <th>55996</th>\n",
              "      <td>99</td>\n",
              "      <td>136</td>\n",
              "      <td>-30.764781</td>\n",
              "      <td>16.618335</td>\n",
              "    </tr>\n",
              "    <tr>\n",
              "      <th>55997</th>\n",
              "      <td>99</td>\n",
              "      <td>137</td>\n",
              "      <td>-30.189439</td>\n",
              "      <td>16.222914</td>\n",
              "    </tr>\n",
              "    <tr>\n",
              "      <th>55998</th>\n",
              "      <td>99</td>\n",
              "      <td>138</td>\n",
              "      <td>-29.607285</td>\n",
              "      <td>15.837594</td>\n",
              "    </tr>\n",
              "    <tr>\n",
              "      <th>55999</th>\n",
              "      <td>99</td>\n",
              "      <td>139</td>\n",
              "      <td>-29.018494</td>\n",
              "      <td>15.462493</td>\n",
              "    </tr>\n",
              "  </tbody>\n",
              "</table>\n",
              "<p>56000 rows × 4 columns</p>\n",
              "</div>\n",
              "      <button class=\"colab-df-convert\" onclick=\"convertToInteractive('df-5d52bb26-920b-4efd-81f2-b2854941969d')\"\n",
              "              title=\"Convert this dataframe to an interactive table.\"\n",
              "              style=\"display:none;\">\n",
              "        \n",
              "  <svg xmlns=\"http://www.w3.org/2000/svg\" height=\"24px\"viewBox=\"0 0 24 24\"\n",
              "       width=\"24px\">\n",
              "    <path d=\"M0 0h24v24H0V0z\" fill=\"none\"/>\n",
              "    <path d=\"M18.56 5.44l.94 2.06.94-2.06 2.06-.94-2.06-.94-.94-2.06-.94 2.06-2.06.94zm-11 1L8.5 8.5l.94-2.06 2.06-.94-2.06-.94L8.5 2.5l-.94 2.06-2.06.94zm10 10l.94 2.06.94-2.06 2.06-.94-2.06-.94-.94-2.06-.94 2.06-2.06.94z\"/><path d=\"M17.41 7.96l-1.37-1.37c-.4-.4-.92-.59-1.43-.59-.52 0-1.04.2-1.43.59L10.3 9.45l-7.72 7.72c-.78.78-.78 2.05 0 2.83L4 21.41c.39.39.9.59 1.41.59.51 0 1.02-.2 1.41-.59l7.78-7.78 2.81-2.81c.8-.78.8-2.07 0-2.86zM5.41 20L4 18.59l7.72-7.72 1.47 1.35L5.41 20z\"/>\n",
              "  </svg>\n",
              "      </button>\n",
              "      \n",
              "  <style>\n",
              "    .colab-df-container {\n",
              "      display:flex;\n",
              "      flex-wrap:wrap;\n",
              "      gap: 12px;\n",
              "    }\n",
              "\n",
              "    .colab-df-convert {\n",
              "      background-color: #E8F0FE;\n",
              "      border: none;\n",
              "      border-radius: 50%;\n",
              "      cursor: pointer;\n",
              "      display: none;\n",
              "      fill: #1967D2;\n",
              "      height: 32px;\n",
              "      padding: 0 0 0 0;\n",
              "      width: 32px;\n",
              "    }\n",
              "\n",
              "    .colab-df-convert:hover {\n",
              "      background-color: #E2EBFA;\n",
              "      box-shadow: 0px 1px 2px rgba(60, 64, 67, 0.3), 0px 1px 3px 1px rgba(60, 64, 67, 0.15);\n",
              "      fill: #174EA6;\n",
              "    }\n",
              "\n",
              "    [theme=dark] .colab-df-convert {\n",
              "      background-color: #3B4455;\n",
              "      fill: #D2E3FC;\n",
              "    }\n",
              "\n",
              "    [theme=dark] .colab-df-convert:hover {\n",
              "      background-color: #434B5C;\n",
              "      box-shadow: 0px 1px 3px 1px rgba(0, 0, 0, 0.15);\n",
              "      filter: drop-shadow(0px 1px 2px rgba(0, 0, 0, 0.3));\n",
              "      fill: #FFFFFF;\n",
              "    }\n",
              "  </style>\n",
              "\n",
              "      <script>\n",
              "        const buttonEl =\n",
              "          document.querySelector('#df-5d52bb26-920b-4efd-81f2-b2854941969d button.colab-df-convert');\n",
              "        buttonEl.style.display =\n",
              "          google.colab.kernel.accessAllowed ? 'block' : 'none';\n",
              "\n",
              "        async function convertToInteractive(key) {\n",
              "          const element = document.querySelector('#df-5d52bb26-920b-4efd-81f2-b2854941969d');\n",
              "          const dataTable =\n",
              "            await google.colab.kernel.invokeFunction('convertToInteractive',\n",
              "                                                     [key], {});\n",
              "          if (!dataTable) return;\n",
              "\n",
              "          const docLinkHtml = 'Like what you see? Visit the ' +\n",
              "            '<a target=\"_blank\" href=https://colab.research.google.com/notebooks/data_table.ipynb>data table notebook</a>'\n",
              "            + ' to learn more about interactive tables.';\n",
              "          element.innerHTML = '';\n",
              "          dataTable['output_type'] = 'display_data';\n",
              "          await google.colab.output.renderOutput(dataTable, element);\n",
              "          const docLink = document.createElement('div');\n",
              "          docLink.innerHTML = docLinkHtml;\n",
              "          element.appendChild(docLink);\n",
              "        }\n",
              "      </script>\n",
              "    </div>\n",
              "  </div>\n",
              "  "
            ]
          },
          "metadata": {},
          "execution_count": 2
        }
      ]
    },
    {
      "cell_type": "code",
      "source": [
        "y_df=data.drop(['Px','Py'],axis =1)\n",
        "x_df=data.drop(['theta1','theta2'],axis =1)\n",
        "print(x_df.shape,y_df.shape)"
      ],
      "metadata": {
        "colab": {
          "base_uri": "https://localhost:8080/"
        },
        "id": "Wu2gfFvYAvgw",
        "outputId": "d1a38922-e9bf-4b0d-8ab4-1cb3e140af09"
      },
      "execution_count": 3,
      "outputs": [
        {
          "output_type": "stream",
          "name": "stdout",
          "text": [
            "(56000, 2) (56000, 2)\n"
          ]
        }
      ]
    },
    {
      "cell_type": "code",
      "source": [
        "model = Sequential()\n",
        "model.add(Dense(512,activation='relu',input_shape=(2,)))\n",
        "model.add(Dense(512,activation='relu'))\n",
        "model.add(Dropout(0.2))\n",
        "\n",
        "model.add(Dense(1048,activation='relu'))\n",
        "model.add(Dense(1048,activation='relu'))\n",
        "model.add(Dropout(0.2))\n",
        "\n",
        "model.add(Dense(512,activation='relu'))\n",
        "model.add(Dense(512,activation='relu'))\n",
        "model.add(Dropout(0.2))\n",
        "\n",
        "\n",
        "model.add(Dense(2))\n",
        "model.summary()"
      ],
      "metadata": {
        "colab": {
          "base_uri": "https://localhost:8080/"
        },
        "id": "bZ8nWoNOAxoX",
        "outputId": "6151d055-4a43-4dda-d850-2816840a60e6"
      },
      "execution_count": 4,
      "outputs": [
        {
          "output_type": "stream",
          "name": "stdout",
          "text": [
            "Model: \"sequential\"\n",
            "_________________________________________________________________\n",
            " Layer (type)                Output Shape              Param #   \n",
            "=================================================================\n",
            " dense (Dense)               (None, 512)               1536      \n",
            "                                                                 \n",
            " dense_1 (Dense)             (None, 512)               262656    \n",
            "                                                                 \n",
            " dropout (Dropout)           (None, 512)               0         \n",
            "                                                                 \n",
            " dense_2 (Dense)             (None, 1048)              537624    \n",
            "                                                                 \n",
            " dense_3 (Dense)             (None, 1048)              1099352   \n",
            "                                                                 \n",
            " dropout_1 (Dropout)         (None, 1048)              0         \n",
            "                                                                 \n",
            " dense_4 (Dense)             (None, 512)               537088    \n",
            "                                                                 \n",
            " dense_5 (Dense)             (None, 512)               262656    \n",
            "                                                                 \n",
            " dropout_2 (Dropout)         (None, 512)               0         \n",
            "                                                                 \n",
            " dense_6 (Dense)             (None, 2)                 1026      \n",
            "                                                                 \n",
            "=================================================================\n",
            "Total params: 2,701,938\n",
            "Trainable params: 2,701,938\n",
            "Non-trainable params: 0\n",
            "_________________________________________________________________\n"
          ]
        }
      ]
    },
    {
      "cell_type": "code",
      "source": [
        "x_train,x_test,y_train,y_test=train_test_split(x_df,y_df,test_size=0.25,random_state =7)"
      ],
      "metadata": {
        "id": "a8WqNiwoBHEM"
      },
      "execution_count": 5,
      "outputs": []
    },
    {
      "cell_type": "code",
      "source": [
        "model.compile(loss = 'mse', optimizer = RMSprop() , metrics = ['accuracy'])\n",
        "history = model.fit(x_train,y_train,batch_size=1000,epochs=100,verbose=1,validation_split=0.2,callbacks=[EarlyStopping(monitor='val_loss',patience=70)]) \n"
      ],
      "metadata": {
        "colab": {
          "base_uri": "https://localhost:8080/"
        },
        "id": "PmOGIoPnAzv9",
        "outputId": "6fe77786-338d-4e08-bd29-57db5e685915"
      },
      "execution_count": 6,
      "outputs": [
        {
          "output_type": "stream",
          "name": "stdout",
          "text": [
            "Epoch 1/100\n",
            "34/34 [==============================] - 7s 29ms/step - loss: 3831.5217 - accuracy: 0.5365 - val_loss: 3019.9629 - val_accuracy: 0.5542\n",
            "Epoch 2/100\n",
            "34/34 [==============================] - 0s 14ms/step - loss: 3082.0852 - accuracy: 0.5547 - val_loss: 3005.5442 - val_accuracy: 0.5670\n",
            "Epoch 3/100\n",
            "34/34 [==============================] - 0s 12ms/step - loss: 3081.1765 - accuracy: 0.5568 - val_loss: 3199.4790 - val_accuracy: 0.5588\n",
            "Epoch 4/100\n",
            "34/34 [==============================] - 0s 13ms/step - loss: 3053.5322 - accuracy: 0.5609 - val_loss: 3416.5542 - val_accuracy: 0.5586\n",
            "Epoch 5/100\n",
            "34/34 [==============================] - 0s 12ms/step - loss: 3031.4004 - accuracy: 0.5587 - val_loss: 2995.0105 - val_accuracy: 0.5690\n",
            "Epoch 6/100\n",
            "34/34 [==============================] - 0s 14ms/step - loss: 3005.3464 - accuracy: 0.5623 - val_loss: 3012.4434 - val_accuracy: 0.5690\n",
            "Epoch 7/100\n",
            "34/34 [==============================] - 1s 17ms/step - loss: 2991.3762 - accuracy: 0.5660 - val_loss: 3006.7898 - val_accuracy: 0.5732\n",
            "Epoch 8/100\n",
            "34/34 [==============================] - 0s 13ms/step - loss: 2969.8628 - accuracy: 0.5661 - val_loss: 3007.5603 - val_accuracy: 0.5746\n",
            "Epoch 9/100\n",
            "34/34 [==============================] - 0s 12ms/step - loss: 2960.8711 - accuracy: 0.5678 - val_loss: 3026.4749 - val_accuracy: 0.5669\n",
            "Epoch 10/100\n",
            "34/34 [==============================] - 0s 13ms/step - loss: 2932.7566 - accuracy: 0.5723 - val_loss: 3138.4058 - val_accuracy: 0.5630\n",
            "Epoch 11/100\n",
            "34/34 [==============================] - 0s 12ms/step - loss: 2927.4644 - accuracy: 0.5729 - val_loss: 3016.9448 - val_accuracy: 0.5883\n",
            "Epoch 12/100\n",
            "34/34 [==============================] - 0s 14ms/step - loss: 2890.5632 - accuracy: 0.5825 - val_loss: 3166.5090 - val_accuracy: 0.5814\n",
            "Epoch 13/100\n",
            "34/34 [==============================] - 0s 11ms/step - loss: 2871.5137 - accuracy: 0.5980 - val_loss: 2811.4824 - val_accuracy: 0.6337\n",
            "Epoch 14/100\n",
            "34/34 [==============================] - 0s 12ms/step - loss: 2855.3323 - accuracy: 0.6137 - val_loss: 2908.7053 - val_accuracy: 0.6082\n",
            "Epoch 15/100\n",
            "34/34 [==============================] - 0s 14ms/step - loss: 2753.0566 - accuracy: 0.6200 - val_loss: 2694.8066 - val_accuracy: 0.6598\n",
            "Epoch 16/100\n",
            "34/34 [==============================] - 0s 14ms/step - loss: 2808.8538 - accuracy: 0.6050 - val_loss: 2848.9646 - val_accuracy: 0.6210\n",
            "Epoch 17/100\n",
            "34/34 [==============================] - 0s 14ms/step - loss: 2720.5703 - accuracy: 0.6224 - val_loss: 2549.7925 - val_accuracy: 0.6737\n",
            "Epoch 18/100\n",
            "34/34 [==============================] - 0s 12ms/step - loss: 2649.6318 - accuracy: 0.6357 - val_loss: 2714.1851 - val_accuracy: 0.6632\n",
            "Epoch 19/100\n",
            "34/34 [==============================] - 0s 13ms/step - loss: 2589.6445 - accuracy: 0.6447 - val_loss: 2718.7275 - val_accuracy: 0.6148\n",
            "Epoch 20/100\n",
            "34/34 [==============================] - 0s 9ms/step - loss: 2579.9656 - accuracy: 0.6440 - val_loss: 2377.4736 - val_accuracy: 0.7001\n",
            "Epoch 21/100\n",
            "34/34 [==============================] - 0s 10ms/step - loss: 2543.9119 - accuracy: 0.6499 - val_loss: 2448.8745 - val_accuracy: 0.6856\n",
            "Epoch 22/100\n",
            "34/34 [==============================] - 0s 9ms/step - loss: 2468.1069 - accuracy: 0.6644 - val_loss: 2428.7974 - val_accuracy: 0.6663\n",
            "Epoch 23/100\n",
            "34/34 [==============================] - 0s 9ms/step - loss: 2447.7864 - accuracy: 0.6682 - val_loss: 2369.7114 - val_accuracy: 0.7042\n",
            "Epoch 24/100\n",
            "34/34 [==============================] - 0s 9ms/step - loss: 2427.0049 - accuracy: 0.6681 - val_loss: 2516.3997 - val_accuracy: 0.6964\n",
            "Epoch 25/100\n",
            "34/34 [==============================] - 0s 9ms/step - loss: 2439.2158 - accuracy: 0.6674 - val_loss: 2393.1414 - val_accuracy: 0.7217\n",
            "Epoch 26/100\n",
            "34/34 [==============================] - 0s 9ms/step - loss: 2404.6533 - accuracy: 0.6751 - val_loss: 2380.0483 - val_accuracy: 0.7040\n",
            "Epoch 27/100\n",
            "34/34 [==============================] - 0s 10ms/step - loss: 2400.0635 - accuracy: 0.6761 - val_loss: 2646.8398 - val_accuracy: 0.6476\n",
            "Epoch 28/100\n",
            "34/34 [==============================] - 0s 9ms/step - loss: 2395.3948 - accuracy: 0.6777 - val_loss: 2425.8774 - val_accuracy: 0.6776\n",
            "Epoch 29/100\n",
            "34/34 [==============================] - 0s 10ms/step - loss: 2397.0720 - accuracy: 0.6758 - val_loss: 2554.0742 - val_accuracy: 0.7074\n",
            "Epoch 30/100\n",
            "34/34 [==============================] - 0s 9ms/step - loss: 2382.7080 - accuracy: 0.6813 - val_loss: 2548.7444 - val_accuracy: 0.6965\n",
            "Epoch 31/100\n",
            "34/34 [==============================] - 0s 9ms/step - loss: 2365.5852 - accuracy: 0.6848 - val_loss: 2413.7271 - val_accuracy: 0.6970\n",
            "Epoch 32/100\n",
            "34/34 [==============================] - 0s 9ms/step - loss: 2362.4788 - accuracy: 0.6828 - val_loss: 2682.1909 - val_accuracy: 0.6064\n",
            "Epoch 33/100\n",
            "34/34 [==============================] - 0s 9ms/step - loss: 2352.6978 - accuracy: 0.6869 - val_loss: 2768.6440 - val_accuracy: 0.6051\n",
            "Epoch 34/100\n",
            "34/34 [==============================] - 0s 9ms/step - loss: 2370.9644 - accuracy: 0.6804 - val_loss: 2345.3650 - val_accuracy: 0.7046\n",
            "Epoch 35/100\n",
            "34/34 [==============================] - 0s 9ms/step - loss: 2338.4541 - accuracy: 0.6882 - val_loss: 2325.1646 - val_accuracy: 0.7195\n",
            "Epoch 36/100\n",
            "34/34 [==============================] - 0s 9ms/step - loss: 2334.8818 - accuracy: 0.6926 - val_loss: 2454.6079 - val_accuracy: 0.6868\n",
            "Epoch 37/100\n",
            "34/34 [==============================] - 0s 9ms/step - loss: 2335.5522 - accuracy: 0.6894 - val_loss: 2436.3420 - val_accuracy: 0.6845\n",
            "Epoch 38/100\n",
            "34/34 [==============================] - 0s 10ms/step - loss: 2335.4792 - accuracy: 0.6920 - val_loss: 2319.3542 - val_accuracy: 0.7056\n",
            "Epoch 39/100\n",
            "34/34 [==============================] - 0s 9ms/step - loss: 2334.4973 - accuracy: 0.6896 - val_loss: 2338.4397 - val_accuracy: 0.6918\n",
            "Epoch 40/100\n",
            "34/34 [==============================] - 0s 9ms/step - loss: 2320.0598 - accuracy: 0.6973 - val_loss: 2338.4690 - val_accuracy: 0.6995\n",
            "Epoch 41/100\n",
            "34/34 [==============================] - 0s 9ms/step - loss: 2321.6384 - accuracy: 0.6926 - val_loss: 2339.5396 - val_accuracy: 0.7140\n",
            "Epoch 42/100\n",
            "34/34 [==============================] - 0s 9ms/step - loss: 2322.2834 - accuracy: 0.6948 - val_loss: 2358.1902 - val_accuracy: 0.7000\n",
            "Epoch 43/100\n",
            "34/34 [==============================] - 0s 9ms/step - loss: 2315.3911 - accuracy: 0.7011 - val_loss: 2399.0139 - val_accuracy: 0.6815\n",
            "Epoch 44/100\n",
            "34/34 [==============================] - 0s 10ms/step - loss: 2317.4536 - accuracy: 0.6975 - val_loss: 2391.0386 - val_accuracy: 0.6936\n",
            "Epoch 45/100\n",
            "34/34 [==============================] - 0s 9ms/step - loss: 2313.2837 - accuracy: 0.6957 - val_loss: 2371.7446 - val_accuracy: 0.6865\n",
            "Epoch 46/100\n",
            "34/34 [==============================] - 0s 9ms/step - loss: 2323.8174 - accuracy: 0.6977 - val_loss: 2370.7612 - val_accuracy: 0.7052\n",
            "Epoch 47/100\n",
            "34/34 [==============================] - 0s 10ms/step - loss: 2299.3201 - accuracy: 0.7028 - val_loss: 2381.4788 - val_accuracy: 0.7119\n",
            "Epoch 48/100\n",
            "34/34 [==============================] - 0s 9ms/step - loss: 2297.7708 - accuracy: 0.7046 - val_loss: 2403.3110 - val_accuracy: 0.7210\n",
            "Epoch 49/100\n",
            "34/34 [==============================] - 0s 9ms/step - loss: 2308.7278 - accuracy: 0.6993 - val_loss: 2515.5918 - val_accuracy: 0.6639\n",
            "Epoch 50/100\n",
            "34/34 [==============================] - 0s 9ms/step - loss: 2302.5815 - accuracy: 0.7013 - val_loss: 2368.6370 - val_accuracy: 0.6936\n",
            "Epoch 51/100\n",
            "34/34 [==============================] - 0s 10ms/step - loss: 2299.1604 - accuracy: 0.7013 - val_loss: 2403.3943 - val_accuracy: 0.6787\n",
            "Epoch 52/100\n",
            "34/34 [==============================] - 0s 9ms/step - loss: 2297.6685 - accuracy: 0.7029 - val_loss: 2284.7107 - val_accuracy: 0.7225\n",
            "Epoch 53/100\n",
            "34/34 [==============================] - 0s 9ms/step - loss: 2301.2849 - accuracy: 0.7043 - val_loss: 2333.5952 - val_accuracy: 0.7079\n",
            "Epoch 54/100\n",
            "34/34 [==============================] - 0s 10ms/step - loss: 2294.5249 - accuracy: 0.7035 - val_loss: 2301.5427 - val_accuracy: 0.7168\n",
            "Epoch 55/100\n",
            "34/34 [==============================] - 0s 9ms/step - loss: 2294.5801 - accuracy: 0.7029 - val_loss: 2550.6379 - val_accuracy: 0.6501\n",
            "Epoch 56/100\n",
            "34/34 [==============================] - 0s 9ms/step - loss: 2302.4036 - accuracy: 0.7029 - val_loss: 2463.7642 - val_accuracy: 0.6769\n",
            "Epoch 57/100\n",
            "34/34 [==============================] - 0s 9ms/step - loss: 2284.7495 - accuracy: 0.7070 - val_loss: 2391.7268 - val_accuracy: 0.6896\n",
            "Epoch 58/100\n",
            "34/34 [==============================] - 0s 9ms/step - loss: 2305.0161 - accuracy: 0.7011 - val_loss: 2434.8606 - val_accuracy: 0.6864\n",
            "Epoch 59/100\n",
            "34/34 [==============================] - 0s 10ms/step - loss: 2285.8818 - accuracy: 0.7039 - val_loss: 2486.3628 - val_accuracy: 0.6861\n",
            "Epoch 60/100\n",
            "34/34 [==============================] - 0s 9ms/step - loss: 2284.8230 - accuracy: 0.7071 - val_loss: 2346.2522 - val_accuracy: 0.6961\n",
            "Epoch 61/100\n",
            "34/34 [==============================] - 0s 10ms/step - loss: 2285.2378 - accuracy: 0.7049 - val_loss: 2459.0574 - val_accuracy: 0.6719\n",
            "Epoch 62/100\n",
            "34/34 [==============================] - 0s 10ms/step - loss: 2291.0300 - accuracy: 0.7050 - val_loss: 2562.4021 - val_accuracy: 0.6527\n",
            "Epoch 63/100\n",
            "34/34 [==============================] - 0s 9ms/step - loss: 2282.2710 - accuracy: 0.7069 - val_loss: 2552.6536 - val_accuracy: 0.6512\n",
            "Epoch 64/100\n",
            "34/34 [==============================] - 0s 9ms/step - loss: 2282.6680 - accuracy: 0.7077 - val_loss: 2416.5723 - val_accuracy: 0.6736\n",
            "Epoch 65/100\n",
            "34/34 [==============================] - 0s 9ms/step - loss: 2281.2712 - accuracy: 0.7067 - val_loss: 2323.9763 - val_accuracy: 0.7161\n",
            "Epoch 66/100\n",
            "34/34 [==============================] - 0s 9ms/step - loss: 2289.4226 - accuracy: 0.7043 - val_loss: 2375.3938 - val_accuracy: 0.7013\n",
            "Epoch 67/100\n",
            "34/34 [==============================] - 0s 9ms/step - loss: 2276.9741 - accuracy: 0.7068 - val_loss: 2346.5518 - val_accuracy: 0.7055\n",
            "Epoch 68/100\n",
            "34/34 [==============================] - 0s 9ms/step - loss: 2281.0322 - accuracy: 0.7073 - val_loss: 2343.3860 - val_accuracy: 0.7064\n",
            "Epoch 69/100\n",
            "34/34 [==============================] - 0s 10ms/step - loss: 2277.7883 - accuracy: 0.7069 - val_loss: 2421.7065 - val_accuracy: 0.6930\n",
            "Epoch 70/100\n",
            "34/34 [==============================] - 0s 9ms/step - loss: 2275.5305 - accuracy: 0.7100 - val_loss: 2381.5059 - val_accuracy: 0.7032\n",
            "Epoch 71/100\n",
            "34/34 [==============================] - 0s 9ms/step - loss: 2279.1538 - accuracy: 0.7085 - val_loss: 2424.4331 - val_accuracy: 0.6793\n",
            "Epoch 72/100\n",
            "34/34 [==============================] - 0s 9ms/step - loss: 2270.3113 - accuracy: 0.7102 - val_loss: 2309.1602 - val_accuracy: 0.7167\n",
            "Epoch 73/100\n",
            "34/34 [==============================] - 0s 10ms/step - loss: 2284.4055 - accuracy: 0.7077 - val_loss: 2374.5076 - val_accuracy: 0.6917\n",
            "Epoch 74/100\n",
            "34/34 [==============================] - 0s 10ms/step - loss: 2273.4280 - accuracy: 0.7079 - val_loss: 2354.1226 - val_accuracy: 0.6967\n",
            "Epoch 75/100\n",
            "34/34 [==============================] - 0s 9ms/step - loss: 2259.2937 - accuracy: 0.7117 - val_loss: 2294.0342 - val_accuracy: 0.7196\n",
            "Epoch 76/100\n",
            "34/34 [==============================] - 0s 10ms/step - loss: 2273.7307 - accuracy: 0.7095 - val_loss: 2332.0095 - val_accuracy: 0.6965\n",
            "Epoch 77/100\n",
            "34/34 [==============================] - 0s 10ms/step - loss: 2272.1294 - accuracy: 0.7090 - val_loss: 2509.8350 - val_accuracy: 0.6600\n",
            "Epoch 78/100\n",
            "34/34 [==============================] - 0s 10ms/step - loss: 2273.1714 - accuracy: 0.7087 - val_loss: 2496.4932 - val_accuracy: 0.6694\n",
            "Epoch 79/100\n",
            "34/34 [==============================] - 0s 10ms/step - loss: 2267.2605 - accuracy: 0.7124 - val_loss: 2379.9292 - val_accuracy: 0.6907\n",
            "Epoch 80/100\n",
            "34/34 [==============================] - 0s 10ms/step - loss: 2268.6267 - accuracy: 0.7128 - val_loss: 2302.3601 - val_accuracy: 0.7219\n",
            "Epoch 81/100\n",
            "34/34 [==============================] - 0s 9ms/step - loss: 2272.3813 - accuracy: 0.7126 - val_loss: 2396.8530 - val_accuracy: 0.7095\n",
            "Epoch 82/100\n",
            "34/34 [==============================] - 0s 9ms/step - loss: 2263.4387 - accuracy: 0.7115 - val_loss: 2738.3848 - val_accuracy: 0.6464\n",
            "Epoch 83/100\n",
            "34/34 [==============================] - 0s 10ms/step - loss: 2278.0117 - accuracy: 0.7094 - val_loss: 2409.7429 - val_accuracy: 0.7000\n",
            "Epoch 84/100\n",
            "34/34 [==============================] - 0s 9ms/step - loss: 2261.8604 - accuracy: 0.7139 - val_loss: 2514.9565 - val_accuracy: 0.6787\n",
            "Epoch 85/100\n",
            "34/34 [==============================] - 0s 10ms/step - loss: 2277.2527 - accuracy: 0.7086 - val_loss: 2383.7163 - val_accuracy: 0.7035\n",
            "Epoch 86/100\n",
            "34/34 [==============================] - 0s 10ms/step - loss: 2266.3103 - accuracy: 0.7115 - val_loss: 2374.0139 - val_accuracy: 0.6963\n",
            "Epoch 87/100\n",
            "34/34 [==============================] - 0s 10ms/step - loss: 2256.4346 - accuracy: 0.7141 - val_loss: 2643.5115 - val_accuracy: 0.6360\n",
            "Epoch 88/100\n",
            "34/34 [==============================] - 0s 9ms/step - loss: 2269.1914 - accuracy: 0.7118 - val_loss: 2363.7388 - val_accuracy: 0.7013\n",
            "Epoch 89/100\n",
            "34/34 [==============================] - 0s 9ms/step - loss: 2263.5020 - accuracy: 0.7129 - val_loss: 2395.0820 - val_accuracy: 0.6761\n",
            "Epoch 90/100\n",
            "34/34 [==============================] - 0s 9ms/step - loss: 2264.7590 - accuracy: 0.7119 - val_loss: 2446.0503 - val_accuracy: 0.6923\n",
            "Epoch 91/100\n",
            "34/34 [==============================] - 0s 9ms/step - loss: 2269.0564 - accuracy: 0.7115 - val_loss: 2418.2905 - val_accuracy: 0.6752\n",
            "Epoch 92/100\n",
            "34/34 [==============================] - 0s 10ms/step - loss: 2255.9924 - accuracy: 0.7118 - val_loss: 2419.2319 - val_accuracy: 0.6752\n",
            "Epoch 93/100\n",
            "34/34 [==============================] - 0s 10ms/step - loss: 2263.2903 - accuracy: 0.7128 - val_loss: 2396.7000 - val_accuracy: 0.6933\n",
            "Epoch 94/100\n",
            "34/34 [==============================] - 0s 9ms/step - loss: 2261.0793 - accuracy: 0.7127 - val_loss: 2339.8894 - val_accuracy: 0.7030\n",
            "Epoch 95/100\n",
            "34/34 [==============================] - 0s 9ms/step - loss: 2259.9749 - accuracy: 0.7142 - val_loss: 2417.8870 - val_accuracy: 0.6970\n",
            "Epoch 96/100\n",
            "34/34 [==============================] - 0s 10ms/step - loss: 2261.2620 - accuracy: 0.7121 - val_loss: 2411.2617 - val_accuracy: 0.6968\n",
            "Epoch 97/100\n",
            "34/34 [==============================] - 0s 9ms/step - loss: 2259.6619 - accuracy: 0.7125 - val_loss: 2405.0295 - val_accuracy: 0.6770\n",
            "Epoch 98/100\n",
            "34/34 [==============================] - 0s 10ms/step - loss: 2253.9236 - accuracy: 0.7150 - val_loss: 2458.7283 - val_accuracy: 0.6508\n",
            "Epoch 99/100\n",
            "34/34 [==============================] - 0s 9ms/step - loss: 2258.3860 - accuracy: 0.7146 - val_loss: 2487.3621 - val_accuracy: 0.6633\n",
            "Epoch 100/100\n",
            "34/34 [==============================] - 0s 9ms/step - loss: 2258.8950 - accuracy: 0.7117 - val_loss: 2381.8572 - val_accuracy: 0.7061\n"
          ]
        }
      ]
    },
    {
      "cell_type": "code",
      "source": [
        "model.save('DOF2.h5')"
      ],
      "metadata": {
        "id": "uiFb5pzoJTAR"
      },
      "execution_count": 7,
      "outputs": []
    },
    {
      "cell_type": "code",
      "source": [
        "score = model.evaluate(x_test, y_test, verbose = 1)\n",
        "print('Test loss =', score[0])\n",
        "print('Test accuracy =', score[1])"
      ],
      "metadata": {
        "colab": {
          "base_uri": "https://localhost:8080/"
        },
        "id": "yKlCUPWHA4BA",
        "outputId": "4ee08268-ca31-4d9e-9c2d-cd7cfba8706f"
      },
      "execution_count": 8,
      "outputs": [
        {
          "output_type": "stream",
          "name": "stdout",
          "text": [
            "438/438 [==============================] - 1s 2ms/step - loss: 2351.5291 - accuracy: 0.7069\n",
            "Test loss = 2351.529052734375\n",
            "Test accuracy = 0.706928551197052\n"
          ]
        }
      ]
    },
    {
      "cell_type": "code",
      "source": [
        "plt.plot(history.history['accuracy'])\n",
        "plt.plot(history.history['val_accuracy'])\n",
        "plt.title('Model accuracy')\n",
        "plt.ylabel('accuracy')\n",
        "plt.xlabel('epoch')\n",
        "plt.legend('train', 'validation', loc = 'upper left')\n",
        "plt.show()"
      ],
      "metadata": {
        "id": "NFTNOn26B0io",
        "colab": {
          "base_uri": "https://localhost:8080/",
          "height": 642
        },
        "outputId": "804c64aa-1820-4a7a-f58d-91af3ffda120"
      },
      "execution_count": 9,
      "outputs": [
        {
          "output_type": "stream",
          "name": "stderr",
          "text": [
            "/usr/local/lib/python3.7/dist-packages/ipykernel_launcher.py:6: UserWarning: Legend does not support 't' instances.\n",
            "A proxy artist may be used instead.\n",
            "See: http://matplotlib.org/users/legend_guide.html#creating-artists-specifically-for-adding-to-the-legend-aka-proxy-artists\n",
            "  \n",
            "/usr/local/lib/python3.7/dist-packages/ipykernel_launcher.py:6: UserWarning: Legend does not support 'r' instances.\n",
            "A proxy artist may be used instead.\n",
            "See: http://matplotlib.org/users/legend_guide.html#creating-artists-specifically-for-adding-to-the-legend-aka-proxy-artists\n",
            "  \n",
            "/usr/local/lib/python3.7/dist-packages/ipykernel_launcher.py:6: UserWarning: Legend does not support 'a' instances.\n",
            "A proxy artist may be used instead.\n",
            "See: http://matplotlib.org/users/legend_guide.html#creating-artists-specifically-for-adding-to-the-legend-aka-proxy-artists\n",
            "  \n",
            "/usr/local/lib/python3.7/dist-packages/ipykernel_launcher.py:6: UserWarning: Legend does not support 'i' instances.\n",
            "A proxy artist may be used instead.\n",
            "See: http://matplotlib.org/users/legend_guide.html#creating-artists-specifically-for-adding-to-the-legend-aka-proxy-artists\n",
            "  \n",
            "/usr/local/lib/python3.7/dist-packages/ipykernel_launcher.py:6: UserWarning: Legend does not support 'n' instances.\n",
            "A proxy artist may be used instead.\n",
            "See: http://matplotlib.org/users/legend_guide.html#creating-artists-specifically-for-adding-to-the-legend-aka-proxy-artists\n",
            "  \n"
          ]
        },
        {
          "output_type": "display_data",
          "data": {
            "text/plain": [
              "<Figure size 432x288 with 1 Axes>"
            ],
            "image/png": "[encoded data removed]"
          },
          "metadata": {
            "needs_background": "light"
          }
        }
      ]
    },
    {
      "cell_type": "code",
      "source": [
        "from tensorflow.keras.models import load_model\n",
        "AMM_DOF2 = load_model('DOF2.h5')"
      ],
      "metadata": {
        "id": "BaJvAg9CLgvU"
      },
      "execution_count": 10,
      "outputs": []
    },
    {
      "cell_type": "code",
      "source": [
        "model_test=load_model('DOF2.h5')"
      ],
      "metadata": {
        "id": "sMYhjh8ZLtx2"
      },
      "execution_count": 11,
      "outputs": []
    },
    {
      "cell_type": "code",
      "source": [
        "A = np.array([[70,85],[5,70]])\n",
        "y_predict = model_test.predict(A)\n",
        "print(y_predict)"
      ],
      "metadata": {
        "colab": {
          "base_uri": "https://localhost:8080/"
        },
        "id": "kHsHQqyoLwHF",
        "outputId": "38071e11-306e-4c91-af5d-4bea2f0ee24c"
      },
      "execution_count": 12,
      "outputs": [
        {
          "output_type": "stream",
          "name": "stdout",
          "text": [
            "[[56.89419     0.68712807]\n",
            " [49.77011    91.24478   ]]\n"
          ]
        }
      ]
    }
  ]
}